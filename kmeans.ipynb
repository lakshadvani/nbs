{
  "nbformat": 4,
  "nbformat_minor": 0,
  "metadata": {
    "colab": {
      "provenance": [],
      "gpuType": "T4"
    },
    "kernelspec": {
      "name": "python3",
      "display_name": "Python 3"
    },
    "language_info": {
      "name": "python"
    }
  },
  "cells": [
    {
      "cell_type": "code",
      "source": [
        "import numpy as np\n",
        "\n",
        "def kmeans(X, k, max_iters=100):\n",
        "    # Step 1: Initialize centroids randomly\n",
        "    centroids = X[np.random.choice(len(X), k, replace=False)]\n",
        "\n",
        "    for _ in range(max_iters):\n",
        "        clusters = [[] for _ in range(k)]\n",
        "\n",
        "        # Step 2: Assign clusters\n",
        "        for x in X:\n",
        "            distances = [np.linalg.norm(x - centroid) for centroid in centroids]\n",
        "            closest_centroid = np.argmin(distances)\n",
        "            clusters[closest_centroid].append(x)\n",
        "\n",
        "        new_centroids = []\n",
        "        for cluster in clusters:\n",
        "            # Step 3: Update centroids\n",
        "            new_centroid = np.mean(cluster, axis=0)\n",
        "            new_centroids.append(new_centroid)\n",
        "\n",
        "        # Check for convergence\n",
        "        if np.array_equal(centroids, new_centroids):\n",
        "            break\n",
        "\n",
        "        centroids = new_centroids\n",
        "\n",
        "    return np.array(centroids), np.array([np.argmin([np.linalg.norm(x - c) for c in centroids]) for x in X])\n",
        "\n",
        "# Example usage\n",
        "# X = np.array([[1, 2], [1, 4], [1, 0], [10, 2], [10, 4], [10, 0]])\n",
        "# k = 2\n",
        "# centroids, assignments = kmeans(X, k)\n"
      ],
      "metadata": {
        "id": "P7SulfU39CV7"
      },
      "execution_count": null,
      "outputs": []
    },
    {
      "cell_type": "code",
      "source": [
        "X = np.array([[1, 2], [1, 4], [1, 0], [10, 2], [10, 4], [10, 0]])\n",
        "y = np.random.choice(len(X), 3, replace=False)"
      ],
      "metadata": {
        "id": "iS2xbdOA9Cp0"
      },
      "execution_count": null,
      "outputs": []
    },
    {
      "cell_type": "code",
      "source": [
        "X[y]"
      ],
      "metadata": {
        "colab": {
          "base_uri": "https://localhost:8080/"
        },
        "id": "_MwDXmoXA7-G",
        "outputId": "00437dd3-def9-4052-89e8-79fe27729011"
      },
      "execution_count": null,
      "outputs": [
        {
          "output_type": "execute_result",
          "data": {
            "text/plain": [
              "array([[ 1,  2],\n",
              "       [ 1,  4],\n",
              "       [10,  4]])"
            ]
          },
          "metadata": {},
          "execution_count": 21
        }
      ]
    },
    {
      "cell_type": "code",
      "source": [],
      "metadata": {
        "id": "j7fLjYzXGTp6"
      },
      "execution_count": null,
      "outputs": []
    },
    {
      "cell_type": "code",
      "source": [],
      "metadata": {
        "id": "QtjpThq3Gdng"
      },
      "execution_count": null,
      "outputs": []
    },
    {
      "cell_type": "code",
      "source": [],
      "metadata": {
        "id": "hc5fczNwGjiB"
      },
      "execution_count": null,
      "outputs": []
    },
    {
      "cell_type": "code",
      "source": [
        "data = np.array([[1,2],[3,4],[5,6],[7,8],[8,9],[10,11],[12,13],[14,15]])\n",
        "#inital centroids\n",
        "# 3 clusters\n",
        "randomselections = np.random.choice(len(data),3,replace = False)\n",
        "centroids = data[randomselections]\n",
        "print(centroids)"
      ],
      "metadata": {
        "colab": {
          "base_uri": "https://localhost:8080/"
        },
        "id": "31e2-kuFNFmL",
        "outputId": "06581aa5-c6d8-48fe-9957-f5a3c380cb66"
      },
      "execution_count": null,
      "outputs": [
        {
          "output_type": "stream",
          "name": "stdout",
          "text": [
            "[[5 6]\n",
            " [7 8]\n",
            " [8 9]]\n"
          ]
        }
      ]
    },
    {
      "cell_type": "code",
      "source": [
        "newcentroids =[]\n",
        "max_iter = 20\n",
        "\n",
        "for _ in range(max_iter):\n",
        "  clusters = [[] for _ in range(3)]\n",
        "  for x in data:\n",
        "    distances = [np.linalg.norm(x - centroid) for centroid in centroids]\n",
        "    closest = np.argmin(distances)\n",
        "    clusters[closest].append(x)\n",
        "  newcentroids = []\n",
        "  for cluster in clusters:\n",
        "    newcent = np.mean(cluster)\n",
        "    newcentroids.append(newcent)\n",
        "  centroids = newcentroids\n"
      ],
      "metadata": {
        "colab": {
          "base_uri": "https://localhost:8080/"
        },
        "id": "L9OGwhCnNFoO",
        "outputId": "bb63e137-fe40-478f-a84d-fe1ce1bdd792"
      },
      "execution_count": null,
      "outputs": [
        {
          "output_type": "stream",
          "name": "stderr",
          "text": [
            "/usr/local/lib/python3.10/dist-packages/numpy/core/fromnumeric.py:3432: RuntimeWarning: Mean of empty slice.\n",
            "  return _methods._mean(a, axis=axis, dtype=dtype,\n",
            "/usr/local/lib/python3.10/dist-packages/numpy/core/_methods.py:190: RuntimeWarning: invalid value encountered in double_scalars\n",
            "  ret = ret.dtype.type(ret / rcount)\n"
          ]
        }
      ]
    },
    {
      "cell_type": "code",
      "source": [],
      "metadata": {
        "id": "ZauwM9hcNFp0"
      },
      "execution_count": null,
      "outputs": []
    },
    {
      "cell_type": "code",
      "source": [],
      "metadata": {
        "id": "BxVRbIvfNFrn"
      },
      "execution_count": null,
      "outputs": []
    },
    {
      "cell_type": "code",
      "source": [
        "import numpy as np\n",
        "from collections import Counter\n",
        "\n",
        "def euclidean_distance(point1, point2):\n",
        "    return np.sqrt(np.sum((point1 - point2) ** 2))\n",
        "\n",
        "class KNN:\n",
        "    def __init__(self, k=3):\n",
        "        self.k = k\n",
        "\n",
        "    def fit(self, X, y):\n",
        "        self.X_train = X\n",
        "        self.y_train = y\n",
        "\n",
        "    def predict(self, X):\n",
        "        y_pred = [self._predict(x) for x in X]\n",
        "        return np.array(y_pred)\n",
        "\n",
        "    def _predict(self, x):\n",
        "        # Compute distances between x and all examples in the training set\n",
        "        distances = [euclidean_distance(x, x_train) for x_train in self.X_train]\n",
        "\n",
        "        # Sort by distance and return indices of the first k neighbors\n",
        "        k_indices = np.argsort(distances)[:self.k]\n",
        "\n",
        "        # Extract the labels of the k nearest neighbor training samples\n",
        "        k_nearest_labels = [self.y_train[i] for i in k_indices]\n",
        "\n",
        "        # Return the most common class label\n",
        "        most_common = Counter(k_nearest_labels).most_common(1)\n",
        "        return most_common[0][0]\n",
        "\n",
        "# Example usage\n",
        "if __name__ == \"__main__\":\n",
        "    from sklearn import datasets\n",
        "    from sklearn.model_selection import train_test_split\n",
        "\n",
        "    # Load dataset\n",
        "    iris = datasets.load_iris()\n",
        "    X, y = iris.data, iris.target\n",
        "\n",
        "    # Split dataset\n",
        "    X_train, X_test, y_train, y_test = train_test_split(X, y, test_size=0.2, random_state=123)\n",
        "\n",
        "    # Create and train the classifier\n",
        "    clf = KNN(k=3)\n",
        "    clf.fit(X_train, y_train)\n",
        "\n",
        "    # Make predictions\n",
        "    predictions = clf.predict(X_test)\n",
        "\n",
        "    # Calculate accuracy\n",
        "    accuracy = np.mean(predictions == y_test)\n",
        "    print(f\"Accuracy: {accuracy}\")\n"
      ],
      "metadata": {
        "id": "5KMAT7NTNFtM"
      },
      "execution_count": null,
      "outputs": []
    },
    {
      "cell_type": "code",
      "source": [],
      "metadata": {
        "id": "KWcrRNo6NFvA"
      },
      "execution_count": null,
      "outputs": []
    },
    {
      "cell_type": "code",
      "source": [],
      "metadata": {
        "id": "FMLdxAgoNFw1"
      },
      "execution_count": null,
      "outputs": []
    }
  ]
}